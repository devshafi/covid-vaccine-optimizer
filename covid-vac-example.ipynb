{
 "cells": [
  {
   "cell_type": "code",
   "execution_count": 1,
   "metadata": {},
   "outputs": [],
   "source": [
    "import gurobipy as gp"
   ]
  },
  {
   "cell_type": "code",
   "execution_count": 2,
   "metadata": {},
   "outputs": [
    {
     "name": "stdout",
     "output_type": "stream",
     "text": [
      "Restricted license - for non-production use only - expires 2025-11-24\n"
     ]
    }
   ],
   "source": [
    "from gurobipy import Model , GRB\n",
    "model = Model ( \"ProductionOptimization\" )"
   ]
  },
  {
   "cell_type": "markdown",
   "metadata": {},
   "source": [
    "### The example problem\n",
    "\n",
    "A company produces two products, A and B, aiming to maximize profit.\n",
    "Product A yields $50 per unit, and Product B yields $40 per unit. Production is limited by 50 units of labor and 24 units of materials. Product\n",
    "A requires 10 units of labor and 4 units of materials per unit, while Prod-\n",
    "uct B requires 5 units of labor and 3 units of materials per unit. Both\n",
    "products must be produced in non-negative quantities. The goal is to de-\n",
    "termine the optimal number of units of A and B to maximize profit while\n",
    "staying within the labor and material constraints."
   ]
  },
  {
   "cell_type": "code",
   "execution_count": 3,
   "metadata": {},
   "outputs": [],
   "source": [
    "x = model . addVar ( vtype = GRB . CONTINUOUS , name = \" x \" ) # production of product A\n",
    "y = model . addVar ( vtype = GRB . CONTINUOUS , name = \" y \" ) # production of product B"
   ]
  },
  {
   "cell_type": "code",
   "execution_count": 4,
   "metadata": {},
   "outputs": [],
   "source": [
    "# 50 is the profit per unit of product A\n",
    "# 40 is the profit per unit of product B\n",
    "\n",
    "# Set the objective function\n",
    "model . setObjective (50 * x + 40 * y , GRB . MAXIMIZE )"
   ]
  },
  {
   "cell_type": "code",
   "execution_count": 5,
   "metadata": {},
   "outputs": [
    {
     "data": {
      "text/plain": [
       "<gurobi.Constr *Awaiting Model Update*>"
      ]
     },
     "execution_count": 5,
     "metadata": {},
     "output_type": "execute_result"
    }
   ],
   "source": [
    "# 10 is the labor hours required to produce product A\n",
    "# 5 is the labor hours required to produce product B\n",
    "model . addConstr (10 * x + 5 * y <= 50 , \" Labor \" ) \n",
    "\n",
    "# 4 is the material required to produce product A\n",
    "# 3 is the material required to produce product B\n",
    "model . addConstr (4 * x + 3 * y <= 24 , \" Material \" )"
   ]
  },
  {
   "cell_type": "code",
   "execution_count": 6,
   "metadata": {},
   "outputs": [],
   "source": [
    "def lp_callback ( model , where ) :\n",
    "    if where == GRB.Callback.SIMPLEX :\n",
    "        obj_val = model.cbGet ( GRB.Callback.SPX_OBJVAL )\n",
    "        print (f' Iteration : { model.cbGet( GRB.Callback.SPX_ITRCNT ) } , Objective Value :{ obj_val }')"
   ]
  },
  {
   "cell_type": "code",
   "execution_count": 7,
   "metadata": {},
   "outputs": [
    {
     "name": "stdout",
     "output_type": "stream",
     "text": [
      "Gurobi Optimizer version 11.0.3 build v11.0.3rc0 (linux64 - \"Ubuntu 24.04.1 LTS\")\n",
      "\n",
      "CPU model: Intel(R) Core(TM) i9-14900KF, instruction set [SSE2|AVX|AVX2]\n",
      "Thread count: 32 physical cores, 32 logical processors, using up to 32 threads\n",
      "\n",
      "Optimize a model with 2 rows, 2 columns and 4 nonzeros\n",
      "Model fingerprint: 0xf8357a15\n",
      "Coefficient statistics:\n",
      "  Matrix range     [3e+00, 1e+01]\n",
      "  Objective range  [4e+01, 5e+01]\n",
      "  Bounds range     [0e+00, 0e+00]\n",
      "  RHS range        [2e+01, 5e+01]\n",
      "Presolve time: 0.00s\n",
      "Presolved: 2 rows, 2 columns, 4 nonzeros\n",
      "\n",
      "Iteration    Objective       Primal Inf.    Dual Inf.      Time\n",
      "       0    9.0000000e+31   3.625000e+30   9.000000e+01      0s\n",
      " Iteration : 0.0 , Objective Value :9e+31\n",
      " Iteration : 1.0 , Objective Value :-0.0\n",
      " Iteration : 1.0 , Objective Value :-0.0\n",
      " Iteration : 1.0 , Objective Value :-0.0\n",
      " Iteration : 1.0 , Objective Value :-0.0\n",
      " Iteration : 1.0 , Objective Value :400.0\n",
      " Iteration : 2.0 , Objective Value :320.0\n",
      " Iteration : 2.0 , Objective Value :320.0\n",
      "       2    3.2000000e+02   0.000000e+00   0.000000e+00      0s\n",
      "\n",
      "Solved in 2 iterations and 0.00 seconds (0.00 work units)\n",
      "Optimal objective  3.200000000e+02\n",
      "\n",
      "User-callback calls 47, time in user-callback 0.00 sec\n"
     ]
    }
   ],
   "source": [
    "model.optimize(lp_callback)"
   ]
  },
  {
   "cell_type": "code",
   "execution_count": 8,
   "metadata": {},
   "outputs": [
    {
     "name": "stdout",
     "output_type": "stream",
     "text": [
      " Labor :Shadow Price = 0.0 , Slack = 10.0 \n",
      " Material :Shadow Price = 13.333333333333334 , Slack = 0.0 \n"
     ]
    }
   ],
   "source": [
    "for c in model.getConstrs():\n",
    "    print (f'{ c.constrName }:Shadow Price = { c.Pi } , Slack = { c.slack } ')"
   ]
  },
  {
   "cell_type": "code",
   "execution_count": 9,
   "metadata": {},
   "outputs": [
    {
     "name": "stdout",
     "output_type": "stream",
     "text": [
      " Optimal value of x : 0.0 \n",
      " Optimal value of y : 8.0 \n",
      " Objective value : 320.0 \n"
     ]
    }
   ],
   "source": [
    "print (f' Optimal value of x : { x.x } ')\n",
    "print (f' Optimal value of y : { y.x } ')\n",
    "print (f' Objective value : { model.objVal } ')"
   ]
  }
 ],
 "metadata": {
  "kernelspec": {
   "display_name": ".venv",
   "language": "python",
   "name": "python3"
  },
  "language_info": {
   "codemirror_mode": {
    "name": "ipython",
    "version": 3
   },
   "file_extension": ".py",
   "mimetype": "text/x-python",
   "name": "python",
   "nbconvert_exporter": "python",
   "pygments_lexer": "ipython3",
   "version": "3.10.15"
  }
 },
 "nbformat": 4,
 "nbformat_minor": 2
}
